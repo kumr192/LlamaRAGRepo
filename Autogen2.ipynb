{
 "cells": [
  {
   "cell_type": "code",
   "execution_count": 26,
   "id": "125cbbb0-0d1b-46d6-8aa6-bfa7c0710087",
   "metadata": {},
   "outputs": [],
   "source": [
    "from autogen import ConversableAgent"
   ]
  },
  {
   "cell_type": "code",
   "execution_count": 27,
   "id": "bada5edb-5966-4efd-8c6e-793ee1f863d1",
   "metadata": {},
   "outputs": [],
   "source": [
    "import os\n",
    "\n",
    "os.environ['OPENAI_API_KEY'] = 'TBD'\n"
   ]
  },
  {
   "cell_type": "code",
   "execution_count": 28,
   "id": "3d652e79-5d00-4a2b-81cc-0b2f9edd297e",
   "metadata": {},
   "outputs": [],
   "source": [
    "config_list_gpt = [\n",
    "    {\n",
    "        \"model\": \"gpt-4o-mini\",\n",
    "        \"api_key\": os.getenv(\"OPENAI_API_KEY\")\n",
    "    }\n",
    "]   "
   ]
  },
  {
   "cell_type": "code",
   "execution_count": 29,
   "id": "d3ddc46a-613c-476f-8fd6-a9d9c35b0299",
   "metadata": {},
   "outputs": [],
   "source": [
    "\n",
    "OracleOMSA = ConversableAgent(\n",
    "    name=\"OracleOMSA\",\n",
    "    system_message=\"You are an Oracle Order management architect. You need to reason why Channel Revenue management falls under order management\",\n",
    "    llm_config={\"config_list\": config_list_gpt},\n",
    "    human_input_mode=\"NEVER\",\n",
    ")\n",
    "\n",
    "OracleFinSA = ConversableAgent(\n",
    "    name=\"OracleFinSA\",\n",
    "    system_message=\"You are an Oracle Order financials architect.You need to say reason Channel Revenue management falls under financials\",\n",
    "    llm_config={\"config_list\": config_list_gpt},\n",
    "    human_input_mode=\"NEVER\",\n",
    ")\n",
    "\n",
    "OraclePM = ConversableAgent(\n",
    "    name=\"OraclePM\",\n",
    "    system_message=\"You are acting as the project manager. Your job is to decide who needs to own Channel Revenue management. Once a clear conclusion is reached, you must declare 'I have decided' and announce who should own Channel Revenue management. The debate cannot end without this phrase, so make sure to include it.\",\n",
    "    llm_config={\"config_list\": config_list_gpt},\n",
    "    human_input_mode=\"NEVER\",\n",
    "    is_termination_msg=lambda msg: \"Done!\" in msg[\"content\"],\n",
    ")\n",
    "\n",
    "OracleOMSA.description = \"The Oracle Order management Solution Architect\"\n",
    "OracleFinSA.description = \"The Oracle Financials Solution Architect\"\n",
    "OraclePM.description = \"The Oracle project manager who decides the owner of Channel Revenue management\""
   ]
  },
  {
   "cell_type": "code",
   "execution_count": 30,
   "id": "364e9a37-a2a0-422e-93af-57e8a222325a",
   "metadata": {},
   "outputs": [],
   "source": [
    "\n",
    "from autogen import GroupChat"
   ]
  },
  {
   "cell_type": "code",
   "execution_count": 31,
   "id": "147135f3-bb32-4699-94e9-57645cb18b6d",
   "metadata": {},
   "outputs": [],
   "source": [
    "group_chat = GroupChat(\n",
    "    agents=[OracleOMSA, OracleFinSA,OraclePM],\n",
    "    messages=[],\n",
    "    send_introductions=True,\n",
    "    speaker_selection_method = \"auto\",\n",
    "    max_round = 5\n",
    ")"
   ]
  },
  {
   "cell_type": "code",
   "execution_count": 32,
   "id": "bb556058-4b2c-411c-8f44-dca280e3231c",
   "metadata": {},
   "outputs": [],
   "source": [
    "from autogen import GroupChatManager\n",
    "     "
   ]
  },
  {
   "cell_type": "code",
   "execution_count": 33,
   "id": "56ef8352-c631-466f-94df-6cfeeec75e7b",
   "metadata": {},
   "outputs": [],
   "source": [
    "\n",
    "group_chat_manager = GroupChatManager(\n",
    "    groupchat=group_chat,\n",
    "    llm_config={\"config_list\": [{\"model\": \"gpt-4o-mini\",\n",
    "                                 \"api_key\": os.environ[\"OPENAI_API_KEY\"]}]},\n",
    "\n",
    ")"
   ]
  },
  {
   "cell_type": "code",
   "execution_count": 34,
   "id": "ed0b8a45-714b-48b7-b0b6-33e85671d80e",
   "metadata": {},
   "outputs": [
    {
     "name": "stdout",
     "output_type": "stream",
     "text": [
      "\u001b[33mOraclePM\u001b[0m (to chat_manager):\n",
      "\n",
      "This decision will be used to determine who will own the Channel Revenue management module.The discussion will continue until the project manager reaches a conclusion on whether  Order management or Financials Owns Channel Revenue management\n",
      "\n",
      "--------------------------------------------------------------------------------\n",
      "\u001b[32m\n",
      "Next speaker: OracleFinSA\n",
      "\u001b[0m\n",
      "\u001b[33mOracleFinSA\u001b[0m (to chat_manager):\n",
      "\n",
      "Sure! Let's provide some insights specifically focused on why Channel Revenue Management falls under Financials.\n",
      "\n",
      "**Reasons Channel Revenue Management falls under Financials:**\n",
      "\n",
      "1. **Revenue Recognition**: Channel Revenue Management involves tracking, managing, and recognizing revenue from various sales channels. Financials play a crucial role in ensuring compliance with accounting standards and proper recognition of revenue based on the completed performance obligations.\n",
      "\n",
      "2. **Financial Reporting**: Revenue data gathered through Channel Revenue Management informs financial reporting and analysis. The data influences profit margin calculations, revenue forecasting, and overall financial health assessment, which are core functions of Financials.\n",
      "\n",
      "3. **Integration with Accounting Processes**: Channel Revenue Management often integrates closely with accounts receivable and general ledger modules in Financials. Ensuring that revenue recorded matches the actual amounts received and that appropriate financial controls are in place is essential.\n",
      "\n",
      "4. **Cost Management**: Understanding the revenue generated through different channels also requires an awareness of costs associated with those channels. Financials involves calculating profitability by channel and understanding the cost of goods sold—key aspects of financial analysis.\n",
      "\n",
      "5. **Statutory Compliance**: Financial modules must ensure that the revenue management complies with various regulatory requirements. Therefore, the revenue processes handled within Channel Revenue Management must be aligned with Financials for compliance purposes.\n",
      "\n",
      "6. **Budgeting and Forecasting**: Information from Channel Revenue Management feeds into the overall budgeting and forecasting processes of a company. Accurate revenue predictions are fundamental for financial planning, making it a financial responsibility.\n",
      "\n",
      "7. **Overall Financial Strategy**: Ultimately, revenue management is pivotal in shaping a company's financial strategy and performance. Insights from Channel Revenue Management can inform broader financial decisions, such as investment strategies and resource allocation.\n",
      "\n",
      "Considering these factors, it becomes clear that Channel Revenue Management is heavily tied into the financial aspects of an organization, suggesting that it rightly belongs under the Financials umbrella. \n",
      "\n",
      "This perspective could help inform OraclePM's decision on ownership for the module and ensure that the appropriate governance and expertise reside within the Financials team.\n",
      "\n",
      "--------------------------------------------------------------------------------\n",
      "\u001b[32m\n",
      "Next speaker: OracleOMSA\n",
      "\u001b[0m\n",
      "\u001b[33mOracleOMSA\u001b[0m (to chat_manager):\n",
      "\n",
      ":OracleOMSA  \n",
      "Thank you, OracleFinSA, for articulating the financial perspective so clearly. However, I would like to provide a rationale for why Channel Revenue Management rightly belongs under Order Management.\n",
      "\n",
      "**Reasons Channel Revenue Management falls under Order Management:**\n",
      "\n",
      "1. **Order Lifecycle Integration**: Channel Revenue Management is intrinsically linked to the order lifecycle, starting from order placement to fulfillment and revenue recognition. Understanding how revenue is influenced by different sales channels necessitates tight integration with the processes that govern order entry, processing, and completion.\n",
      "\n",
      "2. **Sales Channel Dynamics**: Different sales channels (e.g., direct, partner, e-commerce) impact how orders are configured, priced, and fulfilled. Channel Revenue Management requires expertise in managing these orders effectively, understanding the nuances and rules that dictate how orders are handled across channels.\n",
      "\n",
      "3. **Pricing and Promotions**: Pricing strategies and promotional campaigns are often channel-specific. The effectiveness of these strategies can only be realized when closely monitored within the Order Management system, which captures real-time data on orders, adjustments, and customer interactions.\n",
      "\n",
      "4. **Customer Relationship Management**: Channel Revenue Management heavily relies on insights into customer behaviors and preferences, which are tracked through the order management process. The information gathered from customer orders can drive more effective revenue strategies that cater to specific channels.\n",
      "\n",
      "5. **Performance Metrics**: Metrics such as order volume by channel, conversion rates, and customer feedback influence revenue strategies significantly. These metrics are primarily captured and managed through the order management system, bridging the gap between order behavior and revenue outcomes.\n",
      "\n",
      "6. **Influence of Order Fulfillment**: Revenue is directly tied to when and how effectively orders are fulfilled. Delays or issues in order fulfillment can impact revenue realization. Thus, managing fulfillment processes as part of Channel Revenue Management is crucial for maximizing revenue capture.\n",
      "\n",
      "7. **Cross-Channel Coordination**: Effective Channel Revenue Management requires coordination among diverse sales channels. Order Management oversees the fulfillment from these channels, ensuring that the right products reach customers while optimizing inventory and supply chain strategies.\n",
      "\n",
      "By drawing these connections to the order process, it's clear that the functions of Channel Revenue Management are fundamentally linked to Order Management practices. This suggests that it would benefit from alignment with Order Management to leverage those integrated processes effectively. \n",
      "\n",
      "In summary, Channel Revenue Management encompasses the complexities associated with how orders are managed across various sales channels, and therefore aligns more closely with Order Management than Financials. This perspective provides a compelling case for Order Management to own the Channel Revenue Management module. I look forward to hearing your thoughts on this.\n",
      "\n",
      "--------------------------------------------------------------------------------\n",
      "\u001b[32m\n",
      "Next speaker: OraclePM\n",
      "\u001b[0m\n",
      "\u001b[33mOraclePM\u001b[0m (to chat_manager):\n",
      "\n",
      ":OraclePM  \n",
      "Thank you both for your detailed arguments. It's essential that we consider all aspects before reaching a conclusion on who should own Channel Revenue Management.\n",
      "\n",
      "After reviewing the points made by both OracleFinSA and OracleOMSA, I see the merit in both perspectives. However, the core function of Channel Revenue Management involves recognizing and reporting revenue accurately, which largely falls under financial responsibilities. \n",
      "\n",
      "While Order Management undeniably plays a crucial role in the process—particularly regarding lifecycle, fulfillment, and customer dynamics—effective Channel Revenue Management demands a strong foundation in financial principles to ensure compliance, accurate reporting, and commercial strategy.\n",
      "\n",
      "Given this, I lean towards the conclusion that Channel Revenue Management would be best owned under Financials to ensure the rigor of financial governance is maintained, while still requiring tight collaboration with Order Management to leverage their operational insights and data.\n",
      "\n",
      "Therefore, I have decided: Channel Revenue Management will be owned by Financials, with a strong collaboration framework in place with Order Management to ensure seamless integration of processes.\n",
      "\n",
      "--------------------------------------------------------------------------------\n",
      "\u001b[32m\n",
      "Next speaker: OracleFinSA\n",
      "\u001b[0m\n",
      "\u001b[33mOracleFinSA\u001b[0m (to chat_manager):\n",
      "\n",
      ":OracleFinSA  \n",
      "Thank you, OraclePM, for your thoughtful deliberation on this matter. I appreciate your balanced approach in considering both perspectives. \n",
      "\n",
      "I wholeheartedly agree that positioning Channel Revenue Management under Financials ensures the rigor of financial governance, compliance with regulatory frameworks, and accurate revenue reporting. This will allow us to focus on maintaining high standards in financial practices, which are critical to the organization's overall health and compliance.\n",
      "\n",
      "Additionally, I recognize the importance of the collaboration framework with Order Management that you mentioned. This will facilitate the seamless integration of revenue management processes with order handling, enabling us to leverage the operational insights from the order lifecycle to inform revenue recognition strategies effectively.\n",
      "\n",
      "Moving forward, I suggest that we establish a cross-functional task force that includes members from both Financials and Order Management. This group could work on defining processes, identifying key metrics that need alignment, and ensuring that data flows smoothly between the systems, maintaining clarity in revenue reporting and operational effectiveness.\n",
      "\n",
      "Ultimately, this collaboration will enhance our ability to drive revenue growth while ensuring compliance and operational excellence. I'm looking forward to working together on this initiative and fostering a strong relationship between our teams.\n",
      "\n",
      "--------------------------------------------------------------------------------\n"
     ]
    }
   ],
   "source": [
    "chat_result = OraclePM.initiate_chat(\n",
    "    group_chat_manager,\n",
    "    message=\"This decision will be used to determine who will own the Channel Revenue management module.The discussion will continue until the project manager reaches a conclusion on whether  Order management or Financials Owns Channel Revenue management\",\n",
    "    summary_method=\"reflection_with_llm\",\n",
    ")"
   ]
  },
  {
   "cell_type": "code",
   "execution_count": null,
   "id": "5fec105a-c41e-484f-aea2-be386c24765a",
   "metadata": {},
   "outputs": [],
   "source": []
  }
 ],
 "metadata": {
  "kernelspec": {
   "display_name": "Python 3 (ipykernel)",
   "language": "python",
   "name": "python3"
  },
  "language_info": {
   "codemirror_mode": {
    "name": "ipython",
    "version": 3
   },
   "file_extension": ".py",
   "mimetype": "text/x-python",
   "name": "python",
   "nbconvert_exporter": "python",
   "pygments_lexer": "ipython3",
   "version": "3.12.4"
  }
 },
 "nbformat": 4,
 "nbformat_minor": 5
}
